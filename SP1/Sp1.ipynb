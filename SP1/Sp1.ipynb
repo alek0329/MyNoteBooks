{
 "cells": [
  {
   "cell_type": "markdown",
   "metadata": {},
   "source": [
    "\"Download datasettet fra dette link.\n",
    "https://www.kaggle.com/sanjeetsinghnaik/top-1000-highest-grossing-movies \n",
    "\n",
    "1. Find the top 10 highest grossing Disney movies measured by world sales\n",
    "\n",
    "2. Create a pie chart that shows the distribution of Licenses (PG, R, M and so on)\n",
    "\n",
    "3. Get the percentage of PG rated movies between 2001 and 2015\n",
    "\n",
    "4. Calculate the average of world sales for each genre and visualize the data with a bar chart. (Hint: use groupBy)\n",
    "\"\n",
    "\n",
    "data[data['Country Code'].isin(codes)].sort_values('2014',ascending=False)[['Country Name', '2014','Country Code']][:10]"
   ]
  },
  {
   "cell_type": "code",
   "execution_count": 34,
   "metadata": {},
   "outputs": [
    {
     "name": "stdout",
     "output_type": "stream",
     "text": [
      "                                                Title  World Sales (in $)\n",
      "1                            Avengers: Endgame (2019)          2797501328\n",
      "0   Star Wars: Episode VII - The Force Awakens (2015)          2069521700\n",
      "4                       Avengers: Infinity War (2018)          2048359754\n",
      "11                               The Lion King (2019)          1662899439\n",
      "8                                 The Avengers (2012)          1518815515\n",
      "17                                   Frozen II (2019)          1450026933\n",
      "20                     Avengers: Age of Ultron (2015)          1402809540\n",
      "3                                Black Panther (2018)          1347597973\n",
      "9      Star Wars: Episode VIII - The Last Jedi (2017)          1332698830\n",
      "39                                      Frozen (2013)          1281508100\n"
     ]
    }
   ],
   "source": [
    "import pandas as pd\n",
    "import numpy as np\n",
    "#Opgave 1\n",
    "data = pd.read_csv('Highest Holywood Grossing Movies.csv', sep=',')\n",
    "top10Disneys = data [['Title','Distributor','World Sales (in $)']]\n",
    "top10Disneys = top10Disneys[top10Disneys['Distributor'].isin(['Walt Disney Studios Motion Pictures'])]\n",
    "top10Disneys = top10Disneys.sort_values('World Sales (in $)', ascending=False)[['Title', 'World Sales (in $)']][:10]\n",
    "print(top10Disneys)\n",
    "\n"
   ]
  },
  {
   "cell_type": "code",
   "execution_count": 35,
   "metadata": {},
   "outputs": [
    {
     "name": "stdout",
     "output_type": "stream",
     "text": [
      "     Unnamed: 0                                              Title  \\\n",
      "0             0  Star Wars: Episode VII - The Force Awakens (2015)   \n",
      "1             1                           Avengers: Endgame (2019)   \n",
      "2             2                                      Avatar (2009)   \n",
      "3             3                               Black Panther (2018)   \n",
      "4             4                      Avengers: Infinity War (2018)   \n",
      "..          ...                                                ...   \n",
      "913         913                                The Notebook (2004)   \n",
      "914         914                   Jimmy Neutron: Boy Genius (2001)   \n",
      "915         915                               Eat Pray Love (2010)   \n",
      "916         916                 The Texas Chainsaw Massacre (2003)   \n",
      "917         917                                   Zookeeper (2011)   \n",
      "\n",
      "                                            Movie Info  \\\n",
      "0    As a new threat to the galaxy rises, Rey, a de...   \n",
      "1    After the devastating events of Avengers: Infi...   \n",
      "2    A paraplegic Marine dispatched to the moon Pan...   \n",
      "3    T'Challa, heir to the hidden but advanced king...   \n",
      "4    The Avengers and their allies must be willing ...   \n",
      "..                                                 ...   \n",
      "913  A poor yet passionate young man falls in love ...   \n",
      "914  An eight-year-old boy genius and his friends m...   \n",
      "915  A married woman realizes how unhappy her marri...   \n",
      "916  After picking up a traumatized young hitchhike...   \n",
      "917  A group of zoo animals decide to break their c...   \n",
      "\n",
      "                             Distributor       Release Date  \\\n",
      "0    Walt Disney Studios Motion Pictures  December 16, 2015   \n",
      "1    Walt Disney Studios Motion Pictures     April 24, 2019   \n",
      "2                  Twentieth Century Fox  December 16, 2009   \n",
      "3    Walt Disney Studios Motion Pictures                NaN   \n",
      "4    Walt Disney Studios Motion Pictures                NaN   \n",
      "..                                   ...                ...   \n",
      "913                      New Line Cinema      June 25, 2004   \n",
      "914                   Paramount Pictures  December 21, 2001   \n",
      "915    Sony Pictures Entertainment (SPE)    August 13, 2010   \n",
      "916                      New Line Cinema   October 17, 2003   \n",
      "917    Sony Pictures Entertainment (SPE)       July 6, 2011   \n",
      "\n",
      "     Domestic Sales (in $)  International Sales (in $)  World Sales (in $)  \\\n",
      "0                936662225                  1132859475          2069521700   \n",
      "1                858373000                  1939128328          2797501328   \n",
      "2                760507625                  2086738578          2847246203   \n",
      "3                700426566                   647171407          1347597973   \n",
      "4                678815482                  1369544272          2048359754   \n",
      "..                     ...                         ...                 ...   \n",
      "913               81001787                    36813370           117815157   \n",
      "914               80936232                    22056304           102992536   \n",
      "915               80574010                   124020006           204594016   \n",
      "916               80571655                    26792250           107363905   \n",
      "917               80360843                    89491916           169852759   \n",
      "\n",
      "                                                 Genre Movie Runtime License  \n",
      "0                    ['Action', 'Adventure', 'Sci-Fi']   2 hr 18 min   PG-13  \n",
      "1           ['Action', 'Adventure', 'Drama', 'Sci-Fi']    3 hr 1 min   PG-13  \n",
      "2         ['Action', 'Adventure', 'Fantasy', 'Sci-Fi']   2 hr 42 min   PG-13  \n",
      "3                    ['Action', 'Adventure', 'Sci-Fi']   2 hr 14 min     NaN  \n",
      "4                    ['Action', 'Adventure', 'Sci-Fi']   2 hr 29 min     NaN  \n",
      "..                                                 ...           ...     ...  \n",
      "913                               ['Drama', 'Romance']    2 hr 3 min   PG-13  \n",
      "914  ['Action', 'Adventure', 'Animation', 'Comedy',...   1 hr 22 min     NaN  \n",
      "915                  ['Biography', 'Drama', 'Romance']   2 hr 13 min   PG-13  \n",
      "916                                ['Crime', 'Horror']   1 hr 38 min       R  \n",
      "917         ['Comedy', 'Family', 'Fantasy', 'Romance']   1 hr 42 min      PG  \n",
      "\n",
      "[918 rows x 11 columns]\n"
     ]
    }
   ],
   "source": [
    "print(data)"
   ]
  }
 ],
 "metadata": {
  "interpreter": {
   "hash": "4b48474cf93b8ab507b8c4f7239eef38bd94b91deb43ecb43149009b01557085"
  },
  "kernelspec": {
   "display_name": "Python 3.10.2 64-bit",
   "language": "python",
   "name": "python3"
  },
  "language_info": {
   "codemirror_mode": {
    "name": "ipython",
    "version": 3
   },
   "file_extension": ".py",
   "mimetype": "text/x-python",
   "name": "python",
   "nbconvert_exporter": "python",
   "pygments_lexer": "ipython3",
   "version": "3.10.2"
  },
  "orig_nbformat": 4
 },
 "nbformat": 4,
 "nbformat_minor": 2
}
