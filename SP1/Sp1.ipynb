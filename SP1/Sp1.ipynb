{
 "cells": [
  {
   "cell_type": "markdown",
   "metadata": {},
   "source": [
    "\"Download datasettet fra dette link.\n",
    "https://www.kaggle.com/sanjeetsinghnaik/top-1000-highest-grossing-movies \n",
    "\n",
    "1. Find the top 10 highest grossing Disney movies measured by world sales\n",
    "\n",
    "2. Create a pie chart that shows the distribution of Licenses (PG, R, M and so on)\n",
    "\n",
    "3. Get the percentage of PG rated movies between 2001 and 2015\n",
    "\n",
    "4. Calculate the average of world sales for each genre and visualize the data with a bar chart. (Hint: use groupBy)\n",
    "\"\n",
    "\n",
    "data[data['Country Code'].isin(codes)].sort_values('2014',ascending=False)[['Country Name', '2014','Country Code']][:10]"
   ]
  },
  {
   "cell_type": "code",
   "execution_count": 159,
   "metadata": {},
   "outputs": [
    {
     "name": "stdout",
     "output_type": "stream",
     "text": [
      "*****Opgave 1*****\n",
      "                                                Title  World Sales (in $)\n",
      "1                            Avengers: Endgame (2019)          2797501328\n",
      "0   Star Wars: Episode VII - The Force Awakens (2015)          2069521700\n",
      "4                       Avengers: Infinity War (2018)          2048359754\n",
      "11                               The Lion King (2019)          1662899439\n",
      "8                                 The Avengers (2012)          1518815515\n",
      "17                                   Frozen II (2019)          1450026933\n",
      "20                     Avengers: Age of Ultron (2015)          1402809540\n",
      "3                                Black Panther (2018)          1347597973\n",
      "9      Star Wars: Episode VIII - The Last Jedi (2017)          1332698830\n",
      "39                                      Frozen (2013)          1281508100\n"
     ]
    }
   ],
   "source": [
    "from matplotlib import pyplot as plt\n",
    "from collections import OrderedDict\n",
    "import numpy as np\n",
    "import pandas as pd \n",
    "movieData = pd.read_csv('Highest Holywood Grossing Movies.csv', sep=',')\n",
    "print('*****Opgave 1*****')\n",
    "top10Disneys = movieData [['Title','Distributor','World Sales (in $)']]\n",
    "top10Disneys = top10Disneys[top10Disneys['Distributor'].isin(['Walt Disney Studios Motion Pictures'])]\n",
    "top10Disneys = top10Disneys.sort_values('World Sales (in $)', ascending=False)[['Title', 'World Sales (in $)']][:10]\n",
    "print(top10Disneys)\n",
    "\n"
   ]
  },
  {
   "cell_type": "code",
   "execution_count": 160,
   "metadata": {},
   "outputs": [
    {
     "name": "stdout",
     "output_type": "stream",
     "text": [
      "*****Opgave 2*****\n",
      "{'PG-13': 363, 'G': 14, 'R': 194, 'PG': 173}\n"
     ]
    },
    {
     "data": {
      "image/png": "[encoded data removed]",
      "text/plain": [
       "<Figure size 432x288 with 1 Axes>"
      ]
     },
     "metadata": {},
     "output_type": "display_data"
    }
   ],
   "source": [
    "print('*****Opgave 2*****')\n",
    "\n",
    "licensechart = pd.DataFrame(movieData[['License']])\n",
    "\n",
    "itemcount = licensechart['License'].value_counts()\n",
    "pieData={\n",
    "    \"PG-13\":itemcount.get('PG-13'),\n",
    "    \"G\":itemcount.get('G'),\n",
    "    \"R\":itemcount.get('R'),\n",
    "    \"PG\":itemcount.get('PG')\n",
    "}\n",
    "print(pieData)\n",
    "labels = []\n",
    "sizes =[]\n",
    "for x, y in pieData.items():\n",
    "    labels.append(x)\n",
    "    sizes.append(y)\n",
    "plt.pie(x = sizes,autopct=lambda p:'{:.2f}%({:.0f})'.format(p,(p/100)*sum(pieData.values())))\n",
    "plt.legend(pieData.keys(),loc= 'upper right')\n",
    "plt.axis('equal')\n",
    "plt.title('Spread of licenses')\n",
    "plt.show()"
   ]
  },
  {
   "cell_type": "code",
   "execution_count": 161,
   "metadata": {},
   "outputs": [
    {
     "name": "stdout",
     "output_type": "stream",
     "text": [
      "*****Opgave 3*****\n",
      "Percentage of PG-13 movies:\n",
      " 2014 :  53.66 %\n",
      " 2013 :  47.5 %\n",
      " 2010 :  50.0 %\n",
      " 2012 :  47.22 %\n",
      " 2009 :  47.22 %\n",
      " 2015 :  45.71 %\n",
      " 2011 :  47.06 %\n",
      " 2008 :  48.48 %\n",
      " 2007 :  55.56 %\n",
      " 2005 :  59.09 %\n",
      " 2006 :  54.55 %\n"
     ]
    }
   ],
   "source": [
    "print('*****Opgave 3*****')\n",
    "Date=['2005','2006','2007','2008','2009','2010','2011','2012','2013','2014','2015']\n",
    "Date = '|'.join(Date)   \n",
    "totalLicense = pd.DataFrame(movieData[['Release Date','License']])\n",
    "totalLicense['Release Date'] = totalLicense['Release Date'].str.split(',').str[1]\n",
    "totalLicense = totalLicense[totalLicense['License'].isin(['PG-13','G','PG','R'])]\n",
    "totalLicense = totalLicense[totalLicense['Release Date'].str.contains(Date)].sort_values('Release Date', ascending = True)\n",
    "\n",
    "PG13Count = totalLicense[totalLicense['License'].isin(['PG-13'])]\n",
    "\n",
    "\n",
    "PG13Count = PG13Count['Release Date'].value_counts()\n",
    "totalLicenseCount = totalLicense['Release Date'].value_counts()\n",
    "\n",
    "pgDict = PG13Count.to_dict(OrderedDict)\n",
    "pg13Pct = totalLicenseCount.to_dict()\n",
    "\n",
    "print('Percentage of PG-13 movies:')\n",
    "for (k1,v1), (k2,v2) in zip(pg13Pct.items(), pgDict.items()):\n",
    "    if pg13Pct.keys() == pgDict.keys():\n",
    "        pg13Pct[k1] = round(((v2/v1)*100),2)\n",
    "        print(k1,': ',pg13Pct[k1], '%')\n",
    "\n",
    "\n"
   ]
  }
 ],
 "metadata": {
  "interpreter": {
   "hash": "d4d1e4263499bec80672ea0156c357c1ee493ec2b1c70f0acce89fc37c4a6abe"
  },
  "kernelspec": {
   "display_name": "Python 3.7.6 ('base')",
   "language": "python",
   "name": "python3"
  },
  "language_info": {
   "name": "python",
   "version": "3.7.6"
  },
  "orig_nbformat": 4
 },
 "nbformat": 4,
 "nbformat_minor": 2
}
