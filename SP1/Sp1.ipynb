{
 "cells": [
  {
   "cell_type": "markdown",
   "metadata": {},
   "source": [
    "\"Download datasettet fra dette link.\n",
    "https://www.kaggle.com/sanjeetsinghnaik/top-1000-highest-grossing-movies \n",
    "\n",
    "1. Find the top 10 highest grossing Disney movies measured by world sales\n",
    "\n",
    "2. Create a pie chart that shows the distribution of Licenses (PG, R, M and so on)\n",
    "\n",
    "3. Get the percentage of PG rated movies between 2001 and 2015\n",
    "\n",
    "4. Calculate the average of world sales for each genre and visualize the data with a bar chart. (Hint: use groupBy)\n",
    "\"\n"
   ]
  },
  {
   "cell_type": "code",
   "execution_count": 59,
   "metadata": {},
   "outputs": [
    {
     "name": "stdout",
     "output_type": "stream",
     "text": [
      "*****Opgave 1*****\n",
      "                                                Title  World Sales (in $)\n",
      "1                            Avengers: Endgame (2019)          2797501328\n",
      "0   Star Wars: Episode VII - The Force Awakens (2015)          2069521700\n",
      "4                       Avengers: Infinity War (2018)          2048359754\n",
      "11                               The Lion King (2019)          1662899439\n",
      "8                                 The Avengers (2012)          1518815515\n",
      "17                                   Frozen II (2019)          1450026933\n",
      "20                     Avengers: Age of Ultron (2015)          1402809540\n",
      "3                                Black Panther (2018)          1347597973\n",
      "9      Star Wars: Episode VIII - The Last Jedi (2017)          1332698830\n",
      "39                                      Frozen (2013)          1281508100\n"
     ]
    }
   ],
   "source": [
    "from matplotlib import pyplot as plt\n",
    "from collections import OrderedDict\n",
    "import numpy as np\n",
    "import pandas as pd \n",
    "movieData = pd.read_csv('Highest Holywood Grossing Movies.csv', sep=',')\n",
    "movieData = movieData.fillna('None')\n",
    "print('*****Opgave 1*****')\n",
    "top10Disneys = movieData [['Title','Distributor','World Sales (in $)']]\n",
    "top10Disneys = top10Disneys[top10Disneys['Distributor'].isin(['Walt Disney Studios Motion Pictures'])]\n",
    "top10Disneys = top10Disneys.sort_values('World Sales (in $)', ascending=False)[['Title', 'World Sales (in $)']][:10]\n",
    "print(top10Disneys)\n",
    "\n"
   ]
  },
  {
   "cell_type": "code",
   "execution_count": 60,
   "metadata": {},
   "outputs": [
    {
     "name": "stdout",
     "output_type": "stream",
     "text": [
      "*****Opgave 2*****\n"
     ]
    },
    {
     "data": {
      "image/png": "[encoded data removed]",
      "text/plain": [
       "<Figure size 432x288 with 1 Axes>"
      ]
     },
     "metadata": {},
     "output_type": "display_data"
    }
   ],
   "source": [
    "print('*****Opgave 2*****')\n",
    "\n",
    "licensechart = pd.DataFrame(movieData[['License']])\n",
    "\n",
    "itemcount = licensechart['License'].value_counts()\n",
    "pieData={\n",
    "    \"PG-13\":itemcount.get('PG-13'),\n",
    "    \"G\":itemcount.get('G'),\n",
    "    \"R\":itemcount.get('R'),\n",
    "    \"PG\":itemcount.get('PG'),\n",
    "    \"´None\":itemcount.get('None')\n",
    "}\n",
    "#print(pieData)\n",
    "labels = []\n",
    "sizes =[]\n",
    "for x, y in pieData.items():\n",
    "    labels.append(x)\n",
    "    sizes.append(y)\n",
    "\n",
    "    \n",
    "plt.pie(x = sizes,autopct=lambda p:'{:.2f}%({:.0f})'.format(p,(p/100)*sum(pieData.values())))\n",
    "plt.legend(pieData.keys(),loc= 'upper right')\n",
    "plt.axis('equal')\n",
    "plt.title('Spread of licenses')\n",
    "plt.show()"
   ]
  },
  {
   "cell_type": "code",
   "execution_count": 61,
   "metadata": {},
   "outputs": [
    {
     "name": "stdout",
     "output_type": "stream",
     "text": [
      "*****Opgave 3*****\n",
      "PG movies between 2001 and 2015 in percentage: 23.1%\n"
     ]
    },
    {
     "name": "stderr",
     "output_type": "stream",
     "text": [
      "/opt/conda/lib/python3.7/site-packages/pandas/core/frame.py:2963: SettingWithCopyWarning: \n",
      "A value is trying to be set on a copy of a slice from a DataFrame.\n",
      "Try using .loc[row_indexer,col_indexer] = value instead\n",
      "\n",
      "See the caveats in the documentation: https://pandas.pydata.org/pandas-docs/stable/user_guide/indexing.html#returning-a-view-versus-a-copy\n",
      "  self[k1] = value[k2]\n"
     ]
    }
   ],
   "source": [
    "print('*****Opgave 3*****')\n",
    "licenseData = movieData[['License','Release Date']]\n",
    "#change release date to year\n",
    "licenseData[['Release Date', 'Year']] = licenseData['Release Date'].str.split(',',1,expand=True)\n",
    "licenseData_filtered = licenseData[(licenseData['Year'] >=\" 2001\") & (licenseData['Year'] < \" 2015\")]\n",
    "\n",
    "licenseData = licenseData_filtered['License'].value_counts(normalize=True).mul(100).round(1).astype(str)+'%'\n",
    "print('PG movies between 2001 and 2015 in percentage: ' + df1.iloc[1])"
   ]
  },
  {
   "cell_type": "code",
   "execution_count": 62,
   "metadata": {},
   "outputs": [
    {
     "name": "stdout",
     "output_type": "stream",
     "text": [
      "*****Opgave 4*****\n",
      "Average revenue per Genre:\n",
      "Action :  475666143.3358586\n",
      "Adventure :  531181019.3263889\n",
      "Animation :  476451290.65\n",
      "Biography :  255060606.15384614\n",
      "Comedy :  328343351.7293233\n",
      "Crime :  304094930.3235294\n",
      "Documentary :  197066337.0\n",
      "Drama :  329879297.2033333\n",
      "Family :  433959077.24669605\n",
      "Fantasy :  491882626.97356826\n",
      "History :  290847244.8181818\n",
      "Horror :  273084491.0\n",
      "Music :  309048014.1818182\n",
      "Musical :  449595165.8627451\n",
      "Mystery :  358360845.0\n",
      "Romance :  328356153.52816904\n",
      "Sci-Fi :  537513491.3114035\n",
      "Sport :  230473060.57142857\n",
      "Thriller :  360633770.32608694\n",
      "War :  268516450.2592593\n",
      "Western :  265543830.5\n"
     ]
    },
    {
     "data": {
      "text/plain": [
       "<function matplotlib.pyplot.show(*args, **kw)>"
      ]
     },
     "execution_count": 62,
     "metadata": {},
     "output_type": "execute_result"
    },
    {
     "data": {
      "image/png": "[encoded data removed]",
      "text/plain": [
       "<Figure size 432x288 with 1 Axes>"
      ]
     },
     "metadata": {
      "needs_background": "light"
     },
     "output_type": "display_data"
    }
   ],
   "source": [
    "print('*****Opgave 4*****')\n",
    "\n",
    "genreDF = movieData['Genre'].str.replace(\"(\\[|\\]|\\ |')\",\"\")\n",
    "genreDF = genreDF.str.get_dummies(sep=',')\n",
    "\n",
    "#Total amount of movies per Genre\n",
    "genreDist = genreDF.sum().to_dict()\n",
    "#print (genreDist)\n",
    "\n",
    "#Revenue per Genre\n",
    "worldSalesPerGenreDF = genreDF.mul(df[\"World Sales (in $)\"], axis=0)\n",
    "revenuePerGenre = worldSalesPerGenreDF.sum().to_dict()\n",
    "#print(RevenuePerGenre)\n",
    "\n",
    "avgRev = {}\n",
    "print(\"Average revenue per Genre:\")\n",
    "for (k,v), (k2,v2) in zip(genreDist.items(), revenuePerGenre.items()):\n",
    "    avgRevenue = v2 / v\n",
    "    avgRev[k] = avgRevenue\n",
    "    print (k,': ',avgRev[k])\n",
    "\n",
    "\n",
    "\n",
    "plt.bar(avgRev.keys(),avgRev.values(),width=0.5,align='center')\n",
    "plt.xticks(rotation=45, horizontalalignment='right',fontweight='light')\n",
    "plt.show"
   ]
  }
 ],
 "metadata": {
  "interpreter": {
   "hash": "d4d1e4263499bec80672ea0156c357c1ee493ec2b1c70f0acce89fc37c4a6abe"
  },
  "kernelspec": {
   "display_name": "Python 3.7.6 ('base')",
   "language": "python",
   "name": "python3"
  },
  "language_info": {
   "codemirror_mode": {
    "name": "ipython",
    "version": 3
   },
   "file_extension": ".py",
   "mimetype": "text/x-python",
   "name": "python",
   "nbconvert_exporter": "python",
   "pygments_lexer": "ipython3",
   "version": "3.7.6"
  },
  "orig_nbformat": 4
 },
 "nbformat": 4,
 "nbformat_minor": 2
}
