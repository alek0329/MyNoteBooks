{
 "cells": [
  {
   "cell_type": "markdown",
   "metadata": {},
   "source": [
    "## Cifar datasæt\n",
    "\n",
    "Dette er et datasæt af 50.000 32x32 farvede trænings billeder og 10.000 test billeder, opdelt i 10 kategorier.\n",
    "\n",
    "Datasættet kan hentes med koden nedenunder\n",
    "\n",
    "```python\n",
    "import tensorflow as tf\n",
    "import matplotlib.pyplot as plt\n",
    "\n",
    "(x_train,y_train),(x_test,y_test) = tf.keras.datasets.cifar10.load_data()\n",
    "\n",
    "x_train = tf.keras.utils.normalize(x_train,axis=1)\n",
    "y_train = tf.keras.utils.normalize(y_train,axis=1)\n",
    "x_test = tf.keras.utils.normalize(x_test,axis=1)\n",
    "y_test = tf.keras.utils.normalize(y_test,axis=1)\n",
    "\n",
    "plt.imshow(x_train[0])\n",
    "plt.show()\n",
    "```\n",
    "\n",
    "Prøv ved hjælp af dette startkode at opbyg et neuralt netværk der kan gennemskue kategorierne i test dataen.\n",
    "\n",
    "````python\n",
    "from keras import models\n",
    "from keras import layers\n",
    "from keras import optimizers\n",
    "\n",
    "model = model.Sequential()\n",
    "````\n"
   ]
  },
  {
   "cell_type": "code",
   "execution_count": 1,
   "metadata": {},
   "outputs": [],
   "source": [
    "import tensorflow as tf\n",
    "import matplotlib.pyplot as plt\n",
    "import numpy as np\n",
    "from keras import models\n",
    "from keras import optimizers\n",
    "from keras import layers\n",
    "\n",
    "(train_images,train_labels),(test_images,test_labels) = tf.keras.datasets.cifar10.load_data()\n",
    "#10-3 handwritten-numbers\n",
    "train_images = train_images.reshape(train_images.shape[0],32,32,3)\n",
    "train_images = train_images.astype('float32')\n",
    "train_images /= 255\n",
    "test_images = test_images.reshape(test_images.shape[0],32,32,3)\n",
    "test_images = test_images.astype('float32')\n",
    "test_images /= 255\n",
    "\n",
    "labels=['Airplane', 'Automobile', 'Bird', 'Cat', 'Deer', 'Dog', 'Frog', 'Horse', 'Ship', 'Truck']\n",
    "train_labels = tf.keras.utils.to_categorical(train_labels, 10)\n",
    "test_labels = tf.keras.utils.to_categorical(test_labels, 10)\n",
    "\n",
    "#plt.imshow(train_images[0])\n",
    "#plt.show"
   ]
  },
  {
   "cell_type": "code",
   "execution_count": 3,
   "metadata": {},
   "outputs": [
    {
     "name": "stdout",
     "output_type": "stream",
     "text": [
      "Epoch 1/5\n",
      "352/352 [==============================] - 151s 428ms/step - loss: 0.0749 - accuracy: 0.3698 - val_loss: 0.0659 - val_accuracy: 0.5010\n",
      "Epoch 2/5\n",
      "352/352 [==============================] - 154s 438ms/step - loss: 0.0558 - accuracy: 0.5721 - val_loss: 0.0496 - val_accuracy: 0.6342\n",
      "Epoch 3/5\n",
      "352/352 [==============================] - 153s 436ms/step - loss: 0.0459 - accuracy: 0.6606 - val_loss: 0.0415 - val_accuracy: 0.6962\n",
      "Epoch 4/5\n",
      "352/352 [==============================] - 143s 407ms/step - loss: 0.0388 - accuracy: 0.7191 - val_loss: 0.0422 - val_accuracy: 0.6902\n",
      "Epoch 5/5\n",
      "352/352 [==============================] - 135s 383ms/step - loss: 0.0331 - accuracy: 0.7635 - val_loss: 0.0408 - val_accuracy: 0.7084\n"
     ]
    }
   ],
   "source": [
    "model = models.Sequential()\n",
    "model.add(layers.Conv2D(32,(3,3),activation='relu',input_shape=(32,32,3)))\n",
    "model.add(layers.MaxPooling2D((2,2)))\n",
    "model.add(layers.Conv2D(512,(3,3),activation='relu'))\n",
    "model.add(layers.MaxPooling2D((2,2)))\n",
    "model.add(layers.Conv2D(512,(3,3),activation='relu'))\n",
    "model.add(layers.Flatten())\n",
    "model.add(layers.Dense(128, activation='relu'))\n",
    "model.add(layers.Dense(10, activation='softmax'))\n",
    "model.compile(optimizer='rmsprop', loss='mse', metrics=['accuracy'])\n",
    "\n",
    "harryplotter = model.fit(train_images,\n",
    "                    train_labels,\n",
    "                    verbose=True,\n",
    "                    validation_split=0.1,\n",
    "                    epochs=5,\n",
    "                    batch_size=128)\n",
    "\n"
   ]
  },
  {
   "cell_type": "code",
   "execution_count": null,
   "metadata": {},
   "outputs": [
    {
     "name": "stdout",
     "output_type": "stream",
     "text": [
      "0 Cat  Was Correct\n",
      "1 Ship  Was Correct\n",
      "2 Ship  Was Correct\n",
      "3 Airplane  Was Correct\n",
      "4  The AI said:  Frog  but the correct answer was:   Airplane\n",
      "5  The AI said:  Frog  but the correct answer was:   Airplane\n",
      "6 Automobile  Was Correct\n",
      "7 Frog  Was Correct\n",
      "8 Cat  Was Correct\n",
      "9 Automobile  Was Correct\n",
      "10  The AI said:  Airplane  but the correct answer was:   Airplane\n",
      "11 Truck  Was Correct\n",
      "12  The AI said:  Dog  but the correct answer was:   Airplane\n",
      "13 Horse  Was Correct\n",
      "14 Truck  Was Correct\n",
      "15 Ship  Was Correct\n",
      "16 Dog  Was Correct\n",
      "17 Horse  Was Correct\n",
      "18 Ship  Was Correct\n",
      "19 Frog  Was Correct\n",
      "20 Horse  Was Correct\n",
      "21 Airplane  Was Correct\n",
      "22 Deer  Was Correct\n",
      "23 Truck  Was Correct\n",
      "24  The AI said:  Dog  but the correct answer was:   Airplane\n",
      "25 Bird  Was Correct\n"
     ]
    },
    {
     "ename": "AttributeError",
     "evalue": "module 'keras.models' has no attribute 'score'",
     "output_type": "error",
     "traceback": [
      "\u001b[0;31m---------------------------------------------------------------------------\u001b[0m",
      "\u001b[0;31mAttributeError\u001b[0m                            Traceback (most recent call last)",
      "\u001b[0;32m<ipython-input-30-941957b57cab>\u001b[0m in \u001b[0;36m<module>\u001b[0;34m\u001b[0m\n\u001b[1;32m     13\u001b[0m                 \u001b[0mprint\u001b[0m\u001b[0;34m(\u001b[0m\u001b[0midx\u001b[0m \u001b[0;34m,\u001b[0m\u001b[0;34m\" The AI said: \"\u001b[0m \u001b[0;34m,\u001b[0m \u001b[0mlabels\u001b[0m\u001b[0;34m[\u001b[0m\u001b[0mk\u001b[0m\u001b[0;34m]\u001b[0m\u001b[0;34m,\u001b[0m \u001b[0;34m\" but the correct answer was:  \"\u001b[0m\u001b[0;34m,\u001b[0m\u001b[0mlabels\u001b[0m\u001b[0;34m[\u001b[0m\u001b[0mnp\u001b[0m\u001b[0;34m.\u001b[0m\u001b[0margmax\u001b[0m\u001b[0;34m(\u001b[0m\u001b[0mi\u001b[0m\u001b[0;34m)\u001b[0m\u001b[0;34m]\u001b[0m \u001b[0;34m)\u001b[0m\u001b[0;34m\u001b[0m\u001b[0;34m\u001b[0m\u001b[0m\n\u001b[1;32m     14\u001b[0m                 \u001b[0;31m#print(test_images[idx])\u001b[0m\u001b[0;34m\u001b[0m\u001b[0;34m\u001b[0m\u001b[0;34m\u001b[0m\u001b[0m\n\u001b[0;32m---> 15\u001b[0;31m \u001b[0mmodels\u001b[0m\u001b[0;34m.\u001b[0m\u001b[0mscore\u001b[0m\u001b[0;34m(\u001b[0m\u001b[0mtest_images\u001b[0m\u001b[0;34m,\u001b[0m\u001b[0mtest_labels\u001b[0m\u001b[0;34m)\u001b[0m\u001b[0;34m\u001b[0m\u001b[0;34m\u001b[0m\u001b[0m\n\u001b[0m",
      "\u001b[0;31mAttributeError\u001b[0m: module 'keras.models' has no attribute 'score'"
     ]
    }
   ],
   "source": [
    "oraklet = model.predict(test_images[:26])\n",
    "\n",
    "for idx, i in enumerate (oraklet):\n",
    "    if (test_labels[idx][np.argmax(i)]== 1):\n",
    "        print(idx,labels[np.argmax(i)], \" Was Correct\")\n",
    "        #plt.imshow(test_images[2])\n",
    "        #plt.show\n",
    "    else:\n",
    "        for k, i in enumerate(test_labels[idx]):\n",
    "            if(i == 1):\n",
    "                print(idx ,\" The AI said: \" , labels[k], \" but the correct answer was:  \",labels[np.argmax(i)] )\n",
    "                #print(test_images[idx])"
   ]
  }
 ],
 "metadata": {
  "interpreter": {
   "hash": "d4d1e4263499bec80672ea0156c357c1ee493ec2b1c70f0acce89fc37c4a6abe"
  },
  "kernelspec": {
   "display_name": "Python 3.7.6 ('base')",
   "language": "python",
   "name": "python3"
  },
  "language_info": {
   "codemirror_mode": {
    "name": "ipython",
    "version": 3
   },
   "file_extension": ".py",
   "mimetype": "text/x-python",
   "name": "python",
   "nbconvert_exporter": "python",
   "pygments_lexer": "ipython3",
   "version": "3.7.6"
  },
  "orig_nbformat": 4
 },
 "nbformat": 4,
 "nbformat_minor": 2
}
