{
 "cells": [
  {
   "cell_type": "markdown",
   "metadata": {},
   "source": [
    "## Cifar datasæt\n",
    "\n",
    "Dette er et datasæt af 50.000 32x32 farvede trænings billeder og 10.000 test billeder, opdelt i 10 kategorier.\n",
    "\n",
    "Datasættet kan hentes med koden nedenunder\n",
    "\n",
    "```python\n",
    "import tensorflow as tf\n",
    "import matplotlib.pyplot as plt\n",
    "\n",
    "(x_train,y_train),(x_test,y_test) = tf.keras.datasets.cifar10.load_data()\n",
    "\n",
    "x_train = tf.keras.utils.normalize(x_train,axis=1)\n",
    "y_train = tf.keras.utils.normalize(y_train,axis=1)\n",
    "x_test = tf.keras.utils.normalize(x_test,axis=1)\n",
    "y_test = tf.keras.utils.normalize(y_test,axis=1)\n",
    "\n",
    "plt.imshow(x_train[0])\n",
    "plt.show()\n",
    "```\n",
    "\n",
    "Prøv ved hjælp af dette startkode at opbyg et neuralt netværk der kan gennemskue kategorierne i test dataen.\n",
    "\n",
    "````python\n",
    "from keras import models\n",
    "from keras import layers\n",
    "from keras import optimizers\n",
    "\n",
    "model = model.Sequential()\n",
    "````\n"
   ]
  },
  {
   "cell_type": "code",
   "execution_count": 12,
   "metadata": {},
   "outputs": [],
   "source": [
    "import tensorflow as tf\n",
    "import matplotlib.pyplot as plt\n",
    "import numpy as np\n",
    "from keras import models\n",
    "from keras import optimizers\n",
    "from keras import layers\n",
    "\n",
    "(x_train,y_train),(x_test,y_test) = tf.keras.datasets.cifar10.load_data()\n",
    "#10-3 handwritten-numbers\n",
    "x_train = x_train.reshape(x_train.shape[0],32,32,3)\n",
    "x_train = x_train.astype('float32')\n",
    "x_train /= 255\n",
    "x_test = x_test.reshape(x_test.shape[0],32,32,3)\n",
    "x_test = x_test.astype('float32')\n",
    "x_test /= 255\n",
    "\n",
    "labels=['Airplane', 'Automobile', 'Bird', 'Cat', 'Deer', 'Dog', 'Frog', 'Horse', 'Ship', 'Truck']\n",
    "y_train = tf.keras.utils.to_categorical(y_train, 10)\n",
    "y_test = tf.keras.utils.to_categorical(y_test, 10)\n",
    "\n",
    "#plt.imshow(x_train[0])\n",
    "#plt.show"
   ]
  },
  {
   "cell_type": "code",
   "execution_count": 13,
   "metadata": {},
   "outputs": [
    {
     "name": "stdout",
     "output_type": "stream",
     "text": [
      "Epoch 1/10\n",
      "352/352 [==============================] - 24s 65ms/step - loss: 1.7070 - accuracy: 0.3867 - val_loss: 1.4270 - val_accuracy: 0.4902\n",
      "Epoch 2/10\n",
      "352/352 [==============================] - 22s 62ms/step - loss: 1.2844 - accuracy: 0.5493 - val_loss: 1.2700 - val_accuracy: 0.5630\n",
      "Epoch 3/10\n",
      "352/352 [==============================] - 23s 64ms/step - loss: 1.0789 - accuracy: 0.6228 - val_loss: 1.0658 - val_accuracy: 0.6282\n",
      "Epoch 4/10\n",
      "352/352 [==============================] - 21s 60ms/step - loss: 0.9286 - accuracy: 0.6776 - val_loss: 0.9453 - val_accuracy: 0.6692\n",
      "Epoch 5/10\n",
      "352/352 [==============================] - 21s 61ms/step - loss: 0.8219 - accuracy: 0.7154 - val_loss: 0.8771 - val_accuracy: 0.7056\n",
      "Epoch 6/10\n",
      "352/352 [==============================] - 24s 68ms/step - loss: 0.7303 - accuracy: 0.7486 - val_loss: 0.8159 - val_accuracy: 0.7174\n",
      "Epoch 7/10\n",
      "352/352 [==============================] - 20s 58ms/step - loss: 0.6413 - accuracy: 0.7790 - val_loss: 0.7671 - val_accuracy: 0.7438\n",
      "Epoch 8/10\n",
      "352/352 [==============================] - 20s 57ms/step - loss: 0.5604 - accuracy: 0.8035 - val_loss: 0.7889 - val_accuracy: 0.7406\n",
      "Epoch 9/10\n",
      "352/352 [==============================] - 22s 63ms/step - loss: 0.4880 - accuracy: 0.8307 - val_loss: 0.8211 - val_accuracy: 0.7442\n",
      "Epoch 10/10\n",
      "352/352 [==============================] - 22s 62ms/step - loss: 0.4202 - accuracy: 0.8539 - val_loss: 0.8504 - val_accuracy: 0.7446\n"
     ]
    }
   ],
   "source": [
    "model = models.Sequential()\n",
    "model.add(layers.Conv2D(32,(3,3),activation='relu',input_shape=(32,32,3)))\n",
    "model.add(layers.MaxPooling2D((2,2)))\n",
    "model.add(layers.Conv2D(128,(3,3),activation='relu'))\n",
    "model.add(layers.MaxPooling2D((2,2)))\n",
    "model.add(layers.Conv2D(128,(3,3),activation='relu'))\n",
    "model.add(layers.Flatten())\n",
    "model.add(layers.Dense(128, activation='relu'))\n",
    "model.add(layers.Dense(10, activation='softmax'))\n",
    "model.compile(optimizer='rmsprop', loss='categorical_crossentropy', metrics=['accuracy'])\n",
    "\n",
    "harryplotter = model.fit(x_train,\n",
    "                    y_train,\n",
    "                    verbose=True,\n",
    "                    validation_split=0.1,\n",
    "                    epochs=10,\n",
    "                    batch_size=128)\n",
    "\n"
   ]
  },
  {
   "cell_type": "code",
   "execution_count": 14,
   "metadata": {},
   "outputs": [
    {
     "name": "stdout",
     "output_type": "stream",
     "text": [
      "0 Cat  Was Correct\n",
      "1 Ship  Was Correct\n",
      "2  The AI said:  Ship  but the correct answer was:   Airplane\n",
      "3 Airplane  Was Correct\n",
      "4  The AI said:  Frog  but the correct answer was:   Airplane\n",
      "5 Frog  Was Correct\n",
      "6 Automobile  Was Correct\n",
      "7 Frog  Was Correct\n",
      "8 Cat  Was Correct\n",
      "9 Automobile  Was Correct\n",
      "10 Airplane  Was Correct\n",
      "11 Truck  Was Correct\n",
      "12 Dog  Was Correct\n",
      "13 Horse  Was Correct\n",
      "14 Truck  Was Correct\n",
      "15 Ship  Was Correct\n",
      "16 Dog  Was Correct\n",
      "17 Horse  Was Correct\n",
      "18 Ship  Was Correct\n",
      "19 Frog  Was Correct\n",
      "20 Horse  Was Correct\n",
      "21 Airplane  Was Correct\n",
      "22 Deer  Was Correct\n",
      "23 Truck  Was Correct\n",
      "24  The AI said:  Dog  but the correct answer was:   Airplane\n",
      "25  The AI said:  Bird  but the correct answer was:   Airplane\n"
     ]
    }
   ],
   "source": [
    "oraklet = model.predict(x_test[:26])\n",
    "\n",
    "for idx, i in enumerate (oraklet):\n",
    "    if (y_test[idx][np.argmax(i)]== 1):\n",
    "        print(idx,labels[np.argmax(i)], \" Was Correct\")\n",
    "        #plt.imshow(y_test[2])\n",
    "        #plt.show\n",
    "    else:\n",
    "        for k, i in enumerate(y_test[idx]):\n",
    "            if(i == 1):\n",
    "                print(idx ,\" The AI said: \" , labels[k], \" but the correct answer was:  \",labels[np.argmax(i)] )\n",
    "                #print(test_images[idx])"
   ]
  }
 ],
 "metadata": {
  "interpreter": {
   "hash": "d4d1e4263499bec80672ea0156c357c1ee493ec2b1c70f0acce89fc37c4a6abe"
  },
  "kernelspec": {
   "display_name": "Python 3.7.6 ('base')",
   "language": "python",
   "name": "python3"
  },
  "language_info": {
   "codemirror_mode": {
    "name": "ipython",
    "version": 3
   },
   "file_extension": ".py",
   "mimetype": "text/x-python",
   "name": "python",
   "nbconvert_exporter": "python",
   "pygments_lexer": "ipython3",
   "version": "3.7.6"
  },
  "orig_nbformat": 4
 },
 "nbformat": 4,
 "nbformat_minor": 2
}
