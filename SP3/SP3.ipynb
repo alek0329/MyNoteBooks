{
 "cells": [
  {
   "cell_type": "markdown",
   "metadata": {},
   "source": [
    "## Cifar datasæt\n",
    "\n",
    "Dette er et datasæt af 50.000 32x32 farvede trænings billeder og 10.000 test billeder, opdelt i 10 kategorier.\n",
    "\n",
    "Datasættet kan hentes med koden nedenunder\n",
    "\n",
    "```python\n",
    "import tensorflow as tf\n",
    "import matplotlib.pyplot as plt\n",
    "\n",
    "(x_train,y_train),(x_test,y_test) = tf.keras.datasets.cifar10.load_data()\n",
    "\n",
    "x_train = tf.keras.utils.normalize(x_train,axis=1)\n",
    "y_train = tf.keras.utils.normalize(y_train,axis=1)\n",
    "x_test = tf.keras.utils.normalize(x_test,axis=1)\n",
    "y_test = tf.keras.utils.normalize(y_test,axis=1)\n",
    "\n",
    "plt.imshow(x_train[0])\n",
    "plt.show()\n",
    "```\n",
    "\n",
    "Prøv ved hjælp af dette startkode at opbyg et neuralt netværk der kan gennemskue kategorierne i test dataen.\n",
    "\n",
    "````python\n",
    "from keras import models\n",
    "from keras import layers\n",
    "from keras import optimizers\n",
    "\n",
    "model = model.Sequential()\n",
    "````\n"
   ]
  },
  {
   "cell_type": "code",
   "execution_count": 47,
   "metadata": {},
   "outputs": [],
   "source": [
    "import tensorflow as tf\n",
    "import matplotlib.pyplot as plt\n",
    "import numpy as np\n",
    "from keras import models\n",
    "from keras import optimizers\n",
    "from keras import layers\n",
    "\n",
    "(train_images,train_labels),(test_images,test_labels) = tf.keras.datasets.cifar10.load_data()\n",
    "\n",
    "train_images = train_images.reshape(train_images.shape[0],32,32,3)\n",
    "train_images = train_images.astype('float32')\n",
    "train_images /= 255\n",
    "\n",
    "test_images = test_images.reshape(test_images.shape[0],32,32,3)\n",
    "test_images = test_images.astype('float32')\n",
    "test_images /= 255\n",
    "\n",
    "\n",
    "train_labels = tf.keras.utils.to_categorical(train_labels, 10)\n",
    "test_labels = tf.keras.utils.to_categorical(test_labels, 10)\n",
    "\n",
    "#plt.imshow(train_images[0])\n",
    "#plt.show"
   ]
  },
  {
   "cell_type": "code",
   "execution_count": 45,
   "metadata": {},
   "outputs": [
    {
     "name": "stdout",
     "output_type": "stream",
     "text": [
      "Epoch 1/10\n",
      "391/391 [==============================] - 14s 33ms/step - loss: 0.0762 - accuracy: 0.3577\n",
      "Epoch 2/10\n",
      "391/391 [==============================] - 13s 33ms/step - loss: 0.0629 - accuracy: 0.5077\n",
      "Epoch 3/10\n",
      "391/391 [==============================] - 13s 33ms/step - loss: 0.0558 - accuracy: 0.5762\n",
      "Epoch 4/10\n",
      "391/391 [==============================] - 13s 33ms/step - loss: 0.0508 - accuracy: 0.6182\n",
      "Epoch 5/10\n",
      "391/391 [==============================] - 13s 33ms/step - loss: 0.0470 - accuracy: 0.6528\n",
      "Epoch 6/10\n",
      "391/391 [==============================] - 13s 33ms/step - loss: 0.0441 - accuracy: 0.6769\n",
      "Epoch 7/10\n",
      "391/391 [==============================] - 13s 34ms/step - loss: 0.0412 - accuracy: 0.7002\n",
      "Epoch 8/10\n",
      "391/391 [==============================] - 13s 33ms/step - loss: 0.0389 - accuracy: 0.7175\n",
      "Epoch 9/10\n",
      "391/391 [==============================] - 13s 34ms/step - loss: 0.0369 - accuracy: 0.7338\n",
      "Epoch 10/10\n",
      "391/391 [==============================] - 13s 34ms/step - loss: 0.0351 - accuracy: 0.7503\n"
     ]
    }
   ],
   "source": [
    "model = models.Sequential()\n",
    "model.add(layers.Conv2D(32,(3,3),activation='relu',input_shape=(32,32,3)))\n",
    "model.add(layers.MaxPooling2D((2,2)))\n",
    "model.add(layers.Conv2D(64,(3,3),activation='relu'))\n",
    "model.add(layers.MaxPooling2D((2,2)))\n",
    "model.add(layers.Conv2D(64,(3,3),activation='relu'))\n",
    "model.add(layers.Flatten())\n",
    "model.add(layers.Dense(64,activation='relu'))\n",
    "model.add(layers.Dense(10, activation='softmax'))\n",
    "model.compile(optimizer='rmsprop', loss='mse', metrics=['accuracy'])\n",
    "\n",
    "harryplotter = model.fit(train_images,\n",
    "                    train_labels,\n",
    "                    epochs=10,\n",
    "                    batch_size=128)\n",
    "\n"
   ]
  },
  {
   "cell_type": "code",
   "execution_count": 48,
   "metadata": {},
   "outputs": [
    {
     "name": "stdout",
     "output_type": "stream",
     "text": [
      "0  The AI was correct:  cat\n",
      "1  The AI was correct:  ship\n",
      "2  The AI was correct:  ship\n",
      "3  The AI was correct:  airplane\n",
      "4  The AI was correct:  frog\n",
      "5  The AI was correct:  frog\n",
      "6  The AI said:  automobile  but the correct answer was:   airplane\n",
      "7  The AI was correct:  frog\n",
      "8  The AI was correct:  cat\n",
      "9  The AI was correct:  automobile\n",
      "10  The AI was correct:  airplane\n",
      "11  The AI was correct:  truck\n",
      "12  The AI said:  dog  but the correct answer was:   airplane\n",
      "13  The AI was correct:  horse\n",
      "14  The AI was correct:  truck\n",
      "15  The AI was correct:  ship\n",
      "16  The AI was correct:  dog\n",
      "17  The AI said:  horse  but the correct answer was:   airplane\n",
      "18  The AI was correct:  ship\n",
      "19  The AI was correct:  frog\n",
      "20  The AI was correct:  horse\n",
      "21  The AI said:  airplane  but the correct answer was:   airplane\n",
      "22  The AI was correct:  deer\n",
      "23  The AI was correct:  truck\n",
      "24  The AI said:  dog  but the correct answer was:   airplane\n",
      "25  The AI was correct:  bird\n"
     ]
    }
   ],
   "source": [
    "oraklet = model.predict(test_images[:26])\n",
    "for idx, i in enumerate (oraklet):\n",
    "    if (test_labels[idx][np.argmax(i)]== 1):\n",
    "        print(idx, \" The AI was correct: \",class_names[np.argmax(i)])\n",
    "    else:\n",
    "        for k, i in enumerate(test_labels[idx]):\n",
    "            if(i == 1):\n",
    "                print(idx ,\" The AI said: \" , class_names[k], \" but the correct answer was:  \",class_names[np.argmax(i)] )"
   ]
  }
 ],
 "metadata": {
  "interpreter": {
   "hash": "d4d1e4263499bec80672ea0156c357c1ee493ec2b1c70f0acce89fc37c4a6abe"
  },
  "kernelspec": {
   "display_name": "Python 3.7.6 ('base')",
   "language": "python",
   "name": "python3"
  },
  "language_info": {
   "codemirror_mode": {
    "name": "ipython",
    "version": 3
   },
   "file_extension": ".py",
   "mimetype": "text/x-python",
   "name": "python",
   "nbconvert_exporter": "python",
   "pygments_lexer": "ipython3",
   "version": "3.7.6"
  },
  "orig_nbformat": 4
 },
 "nbformat": 4,
 "nbformat_minor": 2
}
