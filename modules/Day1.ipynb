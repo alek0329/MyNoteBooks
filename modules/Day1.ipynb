{
 "cells": [
  {
   "cell_type": "code",
   "execution_count": null,
   "metadata": {},
   "outputs": [],
   "source": [
    "newList =[x for x in range(21) if x%2==0]\n",
    "print(newList)"
   ]
  },
  {
   "cell_type": "code",
   "execution_count": null,
   "metadata": {},
   "outputs": [],
   "source": [
    "list=(range(2,1000001,2))\n",
    "print (min(list))\n",
    "print (max(list))\n",
    "print (sum(list))"
   ]
  },
  {
   "cell_type": "code",
   "execution_count": null,
   "metadata": {},
   "outputs": [],
   "source": [
    "newList = [x*3 for x in range(34) if x>=1]\n",
    "print(newList)\n",
    "\n"
   ]
  },
  {
   "cell_type": "code",
   "execution_count": null,
   "metadata": {},
   "outputs": [],
   "source": [
    "newList = [x**3 for x in range (10)]\n",
    "print (newList)"
   ]
  },
  {
   "cell_type": "code",
   "execution_count": 6,
   "metadata": {},
   "outputs": [
    {
     "name": "stdout",
     "output_type": "stream",
     "text": [
      "['Henning']\n"
     ]
    }
   ],
   "source": [
    "#1A\n",
    "List =[\"Peter\",\"Mark\",\"Lars\",\"Morten\",\"Beate\",\"Henning\"]\n",
    "newList = [x for x in List if x.startswith('H')]\n",
    "print(newList)"
   ]
  },
  {
   "cell_type": "code",
   "execution_count": null,
   "metadata": {},
   "outputs": [],
   "source": [
    "#1B\n",
    "output = [3**i for i in range(1,101)]\n",
    "print(output)"
   ]
  },
  {
   "cell_type": "code",
   "execution_count": 8,
   "metadata": {},
   "outputs": [
    {
     "name": "stdout",
     "output_type": "stream",
     "text": [
      "[(5, 'Peter'), (4, 'Mark'), (4, 'Lars'), (6, 'Morten'), (5, 'Beate')]\n"
     ]
    }
   ],
   "source": [
    "#1C\n",
    "List =[\"Peter\",\"Mark\",\"Lars\",\"Morten\",\"Beate\"]\n",
    "newList = [(len(val),val) for val in List]\n",
    "print(newList)"
   ]
  },
  {
   "cell_type": "code",
   "execution_count": null,
   "metadata": {},
   "outputs": [],
   "source": [
    "#1D\n",
    "text = \"Klokken er 4 og jeg har spist 48 bananer på 2 minutter.\"\n",
    "for x in text:\n",
    "    if (x >= '0' and x <= '9'):\n",
    "        print(x)"
   ]
  },
  {
   "cell_type": "code",
   "execution_count": 7,
   "metadata": {},
   "outputs": [
    {
     "name": "stdout",
     "output_type": "stream",
     "text": [
      "{2, 3, 4, 5, 6, 7, 8, 9, 10, 11, 12}\n"
     ]
    }
   ],
   "source": [
    "#1E\n",
    "dice_throws = set([i+f for i in range(1,7) for f in range(1,7)])\n",
    "print(dice_throws)"
   ]
  },
  {
   "cell_type": "code",
   "execution_count": 13,
   "metadata": {},
   "outputs": [
    {
     "name": "stdout",
     "output_type": "stream",
     "text": [
      "{'Peter': 5, 'Mark': 4, 'Lars': 4, 'Morten': 6, 'Beate': 5, 'Henning': 7, 'Lars-Allan': 10}\n"
     ]
    }
   ],
   "source": [
    "#2A\n",
    "Dict={}\n",
    "List =[\"Peter\",\"Mark\",\"Lars\",\"Morten\",\"Beate\",\"Henning\",\"Lars-Allan\"]\n",
    "for x in List:\n",
    "    Dict[x] = len(x)\n",
    "\n",
    "print(Dict)\n",
    "    "
   ]
  },
  {
   "cell_type": "code",
   "execution_count": 22,
   "metadata": {},
   "outputs": [
    {
     "name": "stdout",
     "output_type": "stream",
     "text": [
      "6.48074069840786\n"
     ]
    }
   ],
   "source": [
    "#2B\n",
    "List = [42,723,56,1610,610,402]\n",
    "Dict = {}\n",
    "for x in List:\n",
    "    Dict[x] = x**(1/2)\n",
    "print(Dict)"
   ]
  },
  {
   "cell_type": "code",
   "execution_count": null,
   "metadata": {},
   "outputs": [],
   "source": []
  },
  {
   "cell_type": "code",
   "execution_count": null,
   "metadata": {},
   "outputs": [],
   "source": []
  }
 ],
 "metadata": {
  "kernelspec": {
   "display_name": "Python 3",
   "language": "python",
   "name": "python3"
  },
  "language_info": {
   "codemirror_mode": {
    "name": "ipython",
    "version": 3
   },
   "file_extension": ".py",
   "mimetype": "text/x-python",
   "name": "python",
   "nbconvert_exporter": "python",
   "pygments_lexer": "ipython3",
   "version": "3.7.6"
  }
 },
 "nbformat": 4,
 "nbformat_minor": 4
}
